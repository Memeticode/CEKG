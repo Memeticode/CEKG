{
 "cells": [
  {
   "attachments": {},
   "cell_type": "markdown",
   "metadata": {},
   "source": [
    "Based on: https://github.com/tomasonjo/blogs/blob/master/youtube/video2graph.ipynb\n",
    "\n",
    "Uses newspaper3k: https://pythonrepo.com/repo/codelucas-newspaper-python-web-crawling"
   ]
  },
  {
   "cell_type": "code",
   "execution_count": 1,
   "metadata": {},
   "outputs": [],
   "source": [
    "import pandas as pd\n",
    "import newspaper\n",
    "import openai\n",
    "import tiktoken\n",
    "from secret_credentials import OPENAI_API_KEY\n"
   ]
  },
  {
   "cell_type": "code",
   "execution_count": 2,
   "metadata": {},
   "outputs": [],
   "source": [
    "def num_tokens_from_messages(messages, model=\"gpt-3.5-turbo\"):\n",
    "  \"\"\"Returns the number of tokens used by a list of messages.\"\"\"\n",
    "  try:\n",
    "      encoding = tiktoken.encoding_for_model(model)\n",
    "  except KeyError:\n",
    "      encoding = tiktoken.get_encoding(\"cl100k_base\")\n",
    "  if model == \"gpt-3.5-turbo\":  # note: future models may deviate from this\n",
    "      num_tokens = 0\n",
    "      for message in messages:\n",
    "          num_tokens += 4  # every message follows <im_start>{role/name}\\n{content}<im_end>\\n\n",
    "          for key, value in message.items():\n",
    "              num_tokens += len(encoding.encode(value))\n",
    "              if key == \"name\":  # if there's a name, the role is omitted\n",
    "                  num_tokens += -1  # role is always required and always 1 token\n",
    "      num_tokens += 2  # every reply is primed with <im_start>assistant\n",
    "      return num_tokens\n",
    "  else:\n",
    "      raise NotImplementedError(f\"\"\"num_tokens_from_messages() is not presently implemented for model {model}.\n",
    "  See https://github.com/openai/openai-python/blob/main/chatml.md for information on how messages are converted to tokens.\"\"\")"
   ]
  },
  {
   "cell_type": "code",
   "execution_count": 33,
   "metadata": {},
   "outputs": [],
   "source": [
    "# set openai system prompt\n",
    "openai.api_key = OPENAI_API_KEY\n",
    "prompt_system = '''You are an expert financial, economic, and political analyst helping to read news articles and extract relevant information (entities and relationships) into a knowledge and current events graph. As input, you will accept the text of a news article. The first line of the input will always be the article headline. You will generate output that contains three sections:\n",
    "entity - All relevant entities (related to finance, the economy, or politics), labeled with an appropriate descriptive category. Each entity is written on its own line as “LABEL {Entity Name}”\n",
    "relationship - All direct relationships between the extracted entities. Each relationship is written on its own line as: “{Head Entity Name} RELATIONSHIP {Tail Entity Name}”\n",
    "current_event - All news items (actions or events described in the article that involve one or more of the extracted entities but are not simple direct relationships), along with the associated entities (only reference entities which you have previously defined in the first section). Each event and associated entities is written on its own line as “NEWS_ITEM {Entity 1}, {Entity 2}, {…}, {Entity n}”\n",
    "\n",
    "To help you understand the requirements, here are 2 examples:\n",
    "EXAMPLE 1:\n",
    "INPUT\n",
    "DeSantis threatens Disney with legal retaliation\n",
    "Florida Governor Ron DeSantis escalated the state's ongoing legal battle with Disney for control over their special district in Orlando, Florida.\n",
    "\n",
    "OUTPUT\n",
    "entity:\n",
    "PLACE {Florida} \n",
    "PLACE {Orlando}\n",
    "PERSON {Ron DeSantis}\n",
    "COMPANY {Disney}\n",
    "PLACE {Disney Special District}\n",
    "\n",
    "relationship:\n",
    "{Ron DeSantis} GOVERNOR_OF {Florida}\n",
    "{Disney} OWNS {Disney Special District}\n",
    "{Disney Special District} IN {Orlando}\n",
    "{Orlando} IN {Florida} \n",
    "\n",
    "current_event:\n",
    "ONGOING_LEGAL_BATTLE {Florida}, {Disney}, {Ron DeSantis}, {Disney Special District}\n",
    "\n",
    "EXAMPLE 2:\n",
    "INPUT\n",
    "Samsung to cut chip production after posting lowest profit in 14 years\n",
    "Seoul Reuters —\n",
    "Samsung Electronics said on Friday it would make a “meaningful” cut to chip production after flagging a worse-than-expected 96% plunge in quarterly operating profit, as a sharp downturn in the global semiconductor market worsens.\n",
    "Shares in the world’s largest memory chip and TV maker rose 3% in early trading, while rival SK Hynix shares surged 5% as investors welcomed plans to cut production to help preserve pricing power.\n",
    "Samsung (SSNLF) estimated its operating profit fell to 600 billion won ($455.5 million) in January-March, from 14.12 trillion won a year earlier, in a short preliminary earnings statement. It was the lowest profit for any quarter in 14 years.\n",
    "“Memory demand dropped sharply … due to the macroeconomic situation and slowing customer purchasing sentiment, as many customers continue to adjust their inventories for financial purposes,” it said in the statement.\n",
    "“We are lowering the production of memory chips by a meaningful level, especially that of products with supply secured,” it added, in a reference to those with sufficient inventories.\n",
    "The production cut signal is unusually strong for Samsung, which previously said it would make small adjustments like pauses for refurbishing production lines but not a full-blown cut.\n",
    "It did not disclose the size of the planned cut.\n",
    "The first-quarter profit fell short of a 873 billion won Refinitiv SmartEstimate, weighted toward analysts who are more consistently accurate. Multiple estimates were revised down earlier this week.\n",
    "It was the lowest since a 590 billion won profit in the first quarter of 2009, according to company data.\n",
    "With consumer demand for tech devices sluggish due to rising inflation, semiconductor buyers including data center operators and smartphone and personal computer makers are refraining from new chip purchases and using up inventories.\n",
    "Analysts estimated the chip division sustained quarterly losses of more than 4 trillion won ($3.03 billion) as memory chip prices fell and its inventory values were slashed.\n",
    "This would be the chip business’ first quarterly loss since the first quarter of 2009, a major divergence for what is normally a cash cow that generates about half of Samsung’s profits in better years.\n",
    "Revenue likely fell 19% from the same period a year earlier to 63 trillion won, Samsung said.\n",
    "The company is due to release detailed earnings, including divisional breakdowns, later this month.\n",
    "\n",
    "OUTPUT\n",
    "entity:\n",
    "COMPANY {Samsung Electronics}\n",
    "COMPANY {SK Hynix}\n",
    "INDUSTRY {semiconductors}\n",
    "PRODUCT {memory chips}\n",
    "PLACE {Seoul}\n",
    "GROUP {semiconductor buyers}\n",
    "GROUP {data center operators}\n",
    "GROUP {smartphone and personal computer makers}\n",
    "\n",
    "relationship:\n",
    "{Samsung Electronics} IN {Seoul}\n",
    "{Samsung Electronics} PRODUCES {memory chips}\n",
    "{memory chips} ARE {semiconductors}\n",
    "{SK Hynix} PRODUCES {memory chips}\n",
    "{SK Hynix} IS_RIVAL_OF {Samsung Electronics}\n",
    "{data center operators} ARE {semiconductor buyers}\n",
    "{smartphone and personal computer makers} ARE {semiconductor buyers}\n",
    "\n",
    "current_event:\n",
    "CHIP_PRODUCTION_CUT {Samsung Electronics, SK Hynix}\n",
    "PROFITS_DECLINED {Samsung Electronics, SK Hynix, semiconductor}\n",
    "DECLINE_IN_MEMORY_CHIP_DEMAND {data center operators, smartphone and personal computer makers}\n",
    "'''"
   ]
  },
  {
   "cell_type": "code",
   "execution_count": 37,
   "metadata": {},
   "outputs": [],
   "source": [
    "# download article\n",
    "#cnn_paper = newspaper.build('http://cnn.com')\n",
    "#articles = [article for article in cnn_paper.articles] # if \"business\" in article.url] # and article.url.endswith(\"index.html\")\n",
    "article = newspaper.Article(\"https://www.cnn.com/2023/04/03/tech/china-micron-probe-us-chip-war-intl-hnk/index.html\")\n",
    "article.download()\n",
    "article.parse()\n",
    "\n",
    "prompt_input = article.title + \"\\r\\n\" + article.text"
   ]
  },
  {
   "cell_type": "code",
   "execution_count": 38,
   "metadata": {},
   "outputs": [
    {
     "data": {
      "text/plain": [
       "1683"
      ]
     },
     "execution_count": 38,
     "metadata": {},
     "output_type": "execute_result"
    }
   ],
   "source": [
    "prompt_messages=[\n",
    "        {\"role\": \"system\", \"content\": prompt_system},\n",
    "        {\"role\": \"user\", \"content\": prompt_input}\n",
    "    ]\n",
    "num_tokens_from_messages(prompt_messages, \"gpt-3.5-turbo\")"
   ]
  },
  {
   "cell_type": "code",
   "execution_count": 39,
   "metadata": {},
   "outputs": [],
   "source": [
    "response = openai.ChatCompletion.create(\n",
    "  model=\"gpt-3.5-turbo\",\n",
    "  messages=prompt_messages,\n",
    "  temperature=0 #most deterministic\n",
    ")"
   ]
  },
  {
   "cell_type": "code",
   "execution_count": 40,
   "metadata": {},
   "outputs": [],
   "source": [
    "restext = response[\"choices\"][0][\"message\"][\"content\"]"
   ]
  },
  {
   "cell_type": "code",
   "execution_count": 41,
   "metadata": {},
   "outputs": [
    {
     "name": "stdout",
     "output_type": "stream",
     "text": [
      "entity:\n",
      "COMPANY {Micron Technology}\n",
      "COUNTRY {China}\n",
      "ORGANIZATION {Cyberspace Administration of China}\n",
      "COUNTRY {Japan}\n",
      "COUNTRY {United States}\n",
      "COUNTRY {Netherlands}\n",
      "INDUSTRY {semiconductor}\n",
      "PRODUCT {memory chips}\n",
      "COMPANY {Mintz Group}\n",
      "COMPANY {Deloitte}\n",
      "\n",
      "relationship:\n",
      "{Micron Technology} PRODUCES {memory chips}\n",
      "{Micron Technology} DERIVES_REVENUE_FROM {China}\n",
      "{Cyberspace Administration of China} CONDUCTS_CYBERSECURITY_PROBE_OF {Micron Technology}\n",
      "{Japan} RESTRICTS_EXPORT_OF {advanced chip manufacturing equipment}\n",
      "{United States} BANS_CHINESE_COMPANIES_FROM_BUYING {advanced chips and chipmaking equipment}\n",
      "{Netherlands} RESTRICTS_OVERSEAS_SALES_OF {semiconductor technology}\n",
      "{Mintz Group} HAS_BEIJING_OFFICE_CLOSED_BY {Chinese authorities}\n",
      "{Deloitte} HAS_OPERATIONS_SUSPENDED_BY {Chinese authorities}\n",
      "\n",
      "current_event:\n",
      "CYBERSECURITY_PROBE {Micron Technology, China}\n",
      "RESTRICTIONS_ON_TECH_EXPORTS {China, Japan, United States, Netherlands}\n",
      "OFFICE_CLOSURE_AND_SUSPENSION {Mintz Group, Deloitte, China}\n"
     ]
    }
   ],
   "source": [
    "for line in restext.split('\\n'):\n",
    "    print(line)"
   ]
  },
  {
   "cell_type": "code",
   "execution_count": 32,
   "metadata": {},
   "outputs": [
    {
     "name": "stdout",
     "output_type": "stream",
     "text": [
      "Samsung to cut chip production after posting lowest profit in 14 years\n",
      "Seoul Reuters —\n",
      "\n",
      "Samsung Electronics said on Friday it would make a “meaningful” cut to chip production after flagging a worse-than-expected 96% plunge in quarterly operating profit, as a sharp downturn in the global semiconductor market worsens.\n",
      "\n",
      "Shares in the world’s largest memory chip and TV maker rose 3% in early trading, while rival SK Hynix shares surged 5% as investors welcomed plans to cut production to help preserve pricing power.\n",
      "\n",
      "Samsung (SSNLF) estimated its operating profit fell to 600 billion won ($455.5 million) in January-March, from 14.12 trillion won a year earlier, in a short preliminary earnings statement. It was the lowest profit for any quarter in 14 years.\n",
      "\n",
      "“Memory demand dropped sharply … due to the macroeconomic situation and slowing customer purchasing sentiment, as many customers continue to adjust their inventories for financial purposes,” it said in the statement.\n",
      "\n",
      "“We are lowering the production of memory chips by a meaningful level, especially that of products with supply secured,” it added, in a reference to those with sufficient inventories.\n",
      "\n",
      "The production cut signal is unusually strong for Samsung, which previously said it would make small adjustments like pauses for refurbishing production lines but not a full-blown cut.\n",
      "\n",
      "It did not disclose the size of the planned cut.\n",
      "\n",
      "The first-quarter profit fell short of a 873 billion won Refinitiv SmartEstimate, weighted toward analysts who are more consistently accurate. Multiple estimates were revised down earlier this week.\n",
      "\n",
      "It was the lowest since a 590 billion won profit in the first quarter of 2009, according to company data.\n",
      "\n",
      "With consumer demand for tech devices sluggish due to rising inflation, semiconductor buyers including data center operators and smartphone and personal computer makers are refraining from new chip purchases and using up inventories.\n",
      "\n",
      "Analysts estimated the chip division sustained quarterly losses of more than 4 trillion won ($3.03 billion) as memory chip prices fell and its inventory values were slashed.\n",
      "\n",
      "This would be the chip business’ first quarterly loss since the first quarter of 2009, a major divergence for what is normally a cash cow that generates about half of Samsung’s profits in better years.\n",
      "\n",
      "Revenue likely fell 19% from the same period a year earlier to 63 trillion won, Samsung said.\n",
      "\n",
      "The company is due to release detailed earnings, including divisional breakdowns, later this month.\n"
     ]
    }
   ],
   "source": [
    "for line in prompt_input.split('\\n'):\n",
    "    print(line)"
   ]
  },
  {
   "cell_type": "code",
   "execution_count": null,
   "metadata": {},
   "outputs": [],
   "source": []
  }
 ],
 "metadata": {
  "kernelspec": {
   "display_name": "Python 3",
   "language": "python",
   "name": "python3"
  },
  "language_info": {
   "codemirror_mode": {
    "name": "ipython",
    "version": 3
   },
   "file_extension": ".py",
   "mimetype": "text/x-python",
   "name": "python",
   "nbconvert_exporter": "python",
   "pygments_lexer": "ipython3",
   "version": "3.10.1"
  },
  "orig_nbformat": 4
 },
 "nbformat": 4,
 "nbformat_minor": 2
}
